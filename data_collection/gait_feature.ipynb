{
 "cells": [
  {
   "cell_type": "code",
   "execution_count": 1,
   "metadata": {
    "collapsed": true
   },
   "outputs": [],
   "source": [
    "import glob\n",
    "import pandas as pd\n",
    "import numpy as np\n",
    "import json\n",
    "import re\n",
    "\n",
    "# Natural Sorting\n",
    "# https://stackoverflow.com/questions/5967500/how-to-correctly-sort-a-string-with-a-number-inside\n",
    "\n",
    "def atoi(text):\n",
    "    return int(text) if text.isdigit() else 0 #text\n",
    "\n",
    "def natural_keys(text):\n",
    "    '''\n",
    "    alist.sort(key=natural_keys) sorts in human order\n",
    "    http://nedbatchelder.com/blog/200712/human_sorting.html\n",
    "    (See Toothy's implementation in the comments)\n",
    "    '''\n",
    "    return [ atoi(c) for c in re.split('(\\d+)', text) ]"
   ]
  },
  {
   "cell_type": "code",
   "execution_count": 5,
   "metadata": {},
   "outputs": [],
   "source": [
    "folder = '07-20-Data/gait'  #TODO: replace with the file you store gait json files\n",
    "fieldnames = [\"title\",\"offset\",\"f1\",\"f2\",\"f3\",\"f4\",\"f5\",\"t1\",\"t2\",\"t3\",\"t4\",\"t5\"]\n",
    "df = pd.DataFrame(columns = fieldnames)\n",
    "\n",
    "gaitfiles = glob.glob(folder+'/*.json')\n",
    "gaitfiles.sort(key=natural_keys)\n",
    "for gaitfile in gaitfiles:\n",
    "    with open(gaitfile) as json_file:    \n",
    "        data = json.load(json_file)\n",
    "\n",
    "    new_row = [str(data[\"Title\"]), int(data[\"Offset\"])]\n",
    "    new_row += eval(data[\"Femur Sequence\"])\n",
    "    new_row += eval(data[\"Tibia Sequence\"])\n",
    "    df.loc[len(df)] = new_row\n",
    "\n",
    "df.to_csv(folder+'/gait_param.csv',index=False)"
   ]
  }
 ],
 "metadata": {
  "kernelspec": {
   "display_name": "Python [default]",
   "language": "python",
   "name": "python2"
  },
  "language_info": {
   "codemirror_mode": {
    "name": "ipython",
    "version": 2
   },
   "file_extension": ".py",
   "mimetype": "text/x-python",
   "name": "python",
   "nbconvert_exporter": "python",
   "pygments_lexer": "ipython2",
   "version": "2.7.13"
  }
 },
 "nbformat": 4,
 "nbformat_minor": 2
}
