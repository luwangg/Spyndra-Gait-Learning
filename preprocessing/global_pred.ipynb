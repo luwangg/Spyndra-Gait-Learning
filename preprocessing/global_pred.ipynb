{
 "cells": [
  {
   "cell_type": "markdown",
   "metadata": {},
   "source": [
    "# Global Prediction\n",
    "\n",
    "This global predition uses the 5 random spline points of each femur and tibia as input features and uses the distance, direction and orientation as output labels. This problem is important for higher-level planning. For example, given a route on the plane and a precise global predictor, the robot should be able to generate a gait that follows the given route."
   ]
  },
  {
   "cell_type": "markdown",
   "metadata": {},
   "source": [
    "## Global Measurement\n",
    "\n",
    "### 1. Real Robot\n",
    "\n",
    "Currently we do not have sensor measuring the 2D pose of Spyndra. We have to do this by hand. This is one thing we can improve definitely.\n",
    "\n",
    "#### 1-1. Combine json files that store random spline points into a csv file"
   ]
  },
  {
   "cell_type": "code",
   "execution_count": 1,
   "metadata": {
    "collapsed": true
   },
   "outputs": [],
   "source": [
    "import glob\n",
    "import pandas as pd\n",
    "import numpy as np\n",
    "import json\n",
    "import re\n",
    "\n",
    "# Natural Sorting\n",
    "# https://stackoverflow.com/questions/5967500/how-to-correctly-sort-a-string-with-a-number-inside\n",
    "\n",
    "def atoi(text):\n",
    "    return int(text) if text.isdigit() else 0 #text\n",
    "\n",
    "def natural_keys(text):\n",
    "    '''\n",
    "    alist.sort(key=natural_keys) sorts in human order\n",
    "    http://nedbatchelder.com/blog/200712/human_sorting.html\n",
    "    (See Toothy's implementation in the comments)\n",
    "    '''\n",
    "    return [ atoi(c) for c in re.split('(\\d+)', text) ]"
   ]
  },
  {
   "cell_type": "code",
   "execution_count": 2,
   "metadata": {
    "collapsed": true
   },
   "outputs": [],
   "source": [
    "folder = '../data/07-20-Data/gait'  #TODO: replace with the file you store gait json files\n",
    "output = 'gait_config.csv'          #TODO: type in how you want to call the output file\n",
    "\n",
    "fieldnames = [\"title\",\"offset\",\"f1\",\"f2\",\"f3\",\"f4\",\"f5\",\"t1\",\"t2\",\"t3\",\"t4\",\"t5\"]\n",
    "df = pd.DataFrame(columns = fieldnames)\n",
    "\n",
    "gaitfiles = glob.glob(folder+'/*.json')\n",
    "gaitfiles.sort(key=natural_keys)    # the csv files are named by date-time created\n",
    "for gaitfile in gaitfiles:\n",
    "    # Open json file\n",
    "    with open(gaitfile) as json_file:    \n",
    "        data = json.load(json_file)\n",
    "    # Create a new row\n",
    "    new_row = [str(data[\"Title\"]), int(data[\"Offset\"])]\n",
    "    new_row += eval(data[\"Femur Sequence\"])\n",
    "    new_row += eval(data[\"Tibia Sequence\"])\n",
    "    # Merge the new row into dataframe\n",
    "    df.loc[len(df)] = new_row\n",
    "\n",
    "# Export dataframe into a csv file\n",
    "df.to_csv(output,index=False)"
   ]
  },
  {
   "cell_type": "markdown",
   "metadata": {},
   "source": [
    "### 2. Simulator\n",
    "\n",
    "In Gazebo, the pose of robot can be measured very easily by subscribing topic `/tf`, which makes life much easier."
   ]
  }
 ],
 "metadata": {
  "kernelspec": {
   "display_name": "Python 2",
   "language": "python",
   "name": "python2"
  },
  "language_info": {
   "codemirror_mode": {
    "name": "ipython",
    "version": 2
   },
   "file_extension": ".py",
   "mimetype": "text/x-python",
   "name": "python",
   "nbconvert_exporter": "python",
   "pygments_lexer": "ipython2",
   "version": "2.7.13"
  }
 },
 "nbformat": 4,
 "nbformat_minor": 2
}
